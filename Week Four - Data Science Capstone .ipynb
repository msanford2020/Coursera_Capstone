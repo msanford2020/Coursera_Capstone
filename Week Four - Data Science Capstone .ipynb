{
    "cells": [
        {
            "metadata": {},
            "cell_type": "markdown",
            "source": "# Introduction"
        },
        {
            "metadata": {},
            "cell_type": "markdown",
            "source": "The last few months has forced everyone to adapt in living and working. That has challenged businesses to look at how they can survive the pandemic and adapt.\nBusinesses are reassessing their current fiscal projections and strategies to see how they can adapt and pivot. Office real estate is being reviewed as one way to significantly reduce operational cost. Employees can live where they would like, and provide value without taking up office space.\n\n\u201cThree quarters of Americans are now working from home because of the coronavirus. Those that were interviewed said they would like to continue if given the option, and two-thirds say they would consider moving if given that flexibility.\u201d\nThis project will explore the Austin Texas area to see if it is a place to call home as the opportunity to work remote and not go to an office everyday could become a growing trend.\n\nThe analysis for this project will provide those looking at exploring the Austin Texas area and surrounding cities for affordability."
        },
        {
            "metadata": {},
            "cell_type": "markdown",
            "source": "# Business Problem and Background"
        },
        {
            "metadata": {},
            "cell_type": "markdown",
            "source": "Are one of these cities the right place for someone\u2019s next move? Could it be a potential satellite office for some businesses that need to still have a place at times for meetings and conferences?\n\nAustin is always a popular choice, but included will be the surrounding area to offer insight into affordability. \n\nThe comparison, median home prices, and venues will help determine if Austin or one of the surrounding areas is a possible next move.\nSome of the analysis to help answer the questions someone may have, will include population, median home price, household income across Austin and the surrounding cities.\n\nMedian houme prices as well as those in the surrounding area and the forecast for the next year.  Additional exploration will be done in neighborhoods and vendues of the ciities.  \n\nThese should help answer the question for someone looking to make their next move!"
        },
        {
            "metadata": {},
            "cell_type": "markdown",
            "source": "# Data"
        },
        {
            "metadata": {},
            "cell_type": "markdown",
            "source": "The necessary data and analysis will include some of the below sources.\n\n- Foursquare API - https://developer.foursquare.com\n- GEOJson File for the Austin and surrounding cites - https://geo.nyu.edu/\n- Beautiful Soup will be used to as a webscraper.\n- www.zillow.com for the API for home values, and forecast.\n- www.zipmaps.net \u2022 http://www.city-data.com/zipmaps/Austin-Texas.html- for demographics.\n- www.opencagedata.com OpenCage for the API registration and key\n\nInsight into how the above sources will provide the data for the exploration:\n    \n- Location data from foursquare provides the venues, and using opencagedata provides the latitude and longitude. \n- Wikipedia of course provides insight into the population of Austin and the surrounding areas.\n- Zillow will provide the real estate information in regards to pricing and median house prices.  "
        },
        {
            "metadata": {},
            "cell_type": "code",
            "source": "",
            "execution_count": null,
            "outputs": []
        }
    ],
    "metadata": {
        "kernelspec": {
            "name": "python3",
            "display_name": "Python 3.6",
            "language": "python"
        },
        "language_info": {
            "name": "python",
            "version": "3.6.9",
            "mimetype": "text/x-python",
            "codemirror_mode": {
                "name": "ipython",
                "version": 3
            },
            "pygments_lexer": "ipython3",
            "nbconvert_exporter": "python",
            "file_extension": ".py"
        }
    },
    "nbformat": 4,
    "nbformat_minor": 1
}